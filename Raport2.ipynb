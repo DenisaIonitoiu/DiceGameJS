{
  "nbformat": 4,
  "nbformat_minor": 0,
  "metadata": {
    "colab": {
      "name": "Raport2.ipynb",
      "provenance": [],
      "collapsed_sections": [],
      "authorship_tag": "ABX9TyNDzS2+JZ2N7hU8Ri8qpgGW",
      "include_colab_link": true
    },
    "kernelspec": {
      "name": "python3",
      "display_name": "Python 3"
    },
    "language_info": {
      "name": "python"
    }
  },
  "cells": [
    {
      "cell_type": "markdown",
      "metadata": {
        "id": "view-in-github",
        "colab_type": "text"
      },
      "source": [
        "<a href=\"https://colab.research.google.com/github/DenisaIonitoiu/DiceGameJS/blob/master/Raport2.ipynb\" target=\"_parent\"><img src=\"https://colab.research.google.com/assets/colab-badge.svg\" alt=\"Open In Colab\"/></a>"
      ]
    },
    {
      "cell_type": "markdown",
      "metadata": {
        "id": "2Fa494ZhuY3U"
      },
      "source": [
        ""
      ]
    },
    {
      "cell_type": "markdown",
      "metadata": {
        "id": "GhKYuXhFuaeI"
      },
      "source": [
        "# ***Interpolare polinomiala: Lagrange, Newton si Neville***\n",
        "\n",
        "***Polinomul liniar de interpolare Lagrange***\n",
        "\n",
        "Polinomul de interpolare este combinatia liniara a valorilor conoscute y0 si y1:\n",
        "P(x) = y0l0(x) + y1l1(x)\n",
        "astfel incat : P1(x0) = y0 si P1(x1) = y1\n",
        "\n",
        "l0 si l1 sunt polinoame de gradul intai care verifica urmatoarele relatii:\n",
        "\n",
        "\n",
        "*  l0(x) = 1\n",
        "*  l0(x1) = 0\n",
        "*  l1(x0) = 0\n",
        "*  l1(x1) = 1\n",
        "\n",
        "Se deduce astfel ca: ̆\n",
        "l0(x) = (x − x1)/(x0 − x1) si l1(x) = (x − x0)/(x1 − x0)\n",
        "\n",
        "Polinomul liniar de interpolare Lagrange este:\n",
        "\n",
        "P1(x) = y0 * (x − x1)/(x0 − x1) + y1* (x − x0)/(x1 − x0)\n"
      ]
    }
  ]
}